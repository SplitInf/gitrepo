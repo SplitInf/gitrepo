import requests #set http request to github
import json #used to interpret results by github
from pprint import pprint 
import matplotlib.pyplot as plt 

#retrieve secrets
from google.colab import userdata
token = userdata.get('ghtoken')

# parameter for the top X repositories
top_n=20

# construct API request #
#https://docs.github.com/en/rest/search/search?apiVersion=2022-11-28#search-users
url = 'https://api.github.com/search/repositories?q=followers:>1000&order=desc'  #works
headers = {'Authorization': 'Bearer ' + token}

# retrieve using requests
r = requests.get(url, headers=headers)
r_json = json.loads(r.text) # .text to access response content https://requests.readthedocs.io/en/latest/user/quickstart/#response-content

## data explorations ##
#browse to view data structure
for key, value in r_json.items():
  print('{}: {}'.format(key, value)) 
#print first x entries
pprint(r_json['items'][:top_n])

## retrieve data ##
# retrieve name and counts in separate lists
repo_name = []
repo_counts = []
for item in r_json['items'][:top_n]:
  repo_name.append(item['name'])
  repo_counts.append(item['stargazers_count'])

#print results
for r, c in zip(repo_name,repo_counts):
  print(f"{r} ({c})")

## plot ##
# Plot bar chart
plt.bar(repo_name, repo_counts)
plt.title(f"Top {top_n} Most Starred GitHub Repositories")
plt.ylabel("Number of starred counts")
plt.xlabel("Ranks")
plt.xticks(rotation=90)
plt.show()